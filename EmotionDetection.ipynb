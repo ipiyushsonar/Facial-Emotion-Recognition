{
 "cells": [
  {
   "cell_type": "code",
   "execution_count": 2,
   "metadata": {},
   "outputs": [],
   "source": [
    "import pandas as pd\n",
    "import numpy as np\n",
    "import cv2\n",
    "from PIL import Image\n",
    "from matplotlib import pyplot as plt\n",
    "import scipy\n",
    "import math"
   ]
  },
  {
   "cell_type": "code",
   "execution_count": 3,
   "metadata": {},
   "outputs": [
    {
     "name": "stderr",
     "output_type": "stream",
     "text": [
      "Using TensorFlow backend.\n"
     ]
    }
   ],
   "source": [
    "from keras.models import Sequential\n",
    "from keras.layers import Dense\n",
    "from keras.wrappers.scikit_learn import KerasClassifier\n",
    "from keras.utils import np_utils\n",
    "from sklearn.model_selection import cross_val_score\n",
    "from sklearn.model_selection import KFold\n",
    "from sklearn.preprocessing import LabelEncoder\n",
    "from sklearn.pipeline import Pipeline\n",
    "from sklearn.model_selection import train_test_split"
   ]
  },
  {
   "cell_type": "code",
   "execution_count": 4,
   "metadata": {},
   "outputs": [
    {
     "data": {
      "text/html": [
       "<div>\n",
       "<style scoped>\n",
       "    .dataframe tbody tr th:only-of-type {\n",
       "        vertical-align: middle;\n",
       "    }\n",
       "\n",
       "    .dataframe tbody tr th {\n",
       "        vertical-align: top;\n",
       "    }\n",
       "\n",
       "    .dataframe thead th {\n",
       "        text-align: right;\n",
       "    }\n",
       "</style>\n",
       "<table border=\"1\" class=\"dataframe\">\n",
       "  <thead>\n",
       "    <tr style=\"text-align: right;\">\n",
       "      <th></th>\n",
       "      <th>user.id</th>\n",
       "      <th>image</th>\n",
       "      <th>emotion</th>\n",
       "    </tr>\n",
       "  </thead>\n",
       "  <tbody>\n",
       "    <tr>\n",
       "      <th>0</th>\n",
       "      <td>628</td>\n",
       "      <td>facial-expressions_2868588k.jpg</td>\n",
       "      <td>anger</td>\n",
       "    </tr>\n",
       "    <tr>\n",
       "      <th>1</th>\n",
       "      <td>628</td>\n",
       "      <td>facial-expressions_2868585k.jpg</td>\n",
       "      <td>surprise</td>\n",
       "    </tr>\n",
       "    <tr>\n",
       "      <th>2</th>\n",
       "      <td>628</td>\n",
       "      <td>facial-expressions_2868584k.jpg</td>\n",
       "      <td>disgust</td>\n",
       "    </tr>\n",
       "    <tr>\n",
       "      <th>3</th>\n",
       "      <td>628</td>\n",
       "      <td>facial-expressions_2868582k.jpg</td>\n",
       "      <td>fear</td>\n",
       "    </tr>\n",
       "    <tr>\n",
       "      <th>4</th>\n",
       "      <td>dwdii</td>\n",
       "      <td>Aaron_Eckhart_0001.jpg</td>\n",
       "      <td>neutral</td>\n",
       "    </tr>\n",
       "  </tbody>\n",
       "</table>\n",
       "</div>"
      ],
      "text/plain": [
       "  user.id                            image   emotion\n",
       "0     628  facial-expressions_2868588k.jpg     anger\n",
       "1     628  facial-expressions_2868585k.jpg  surprise\n",
       "2     628  facial-expressions_2868584k.jpg   disgust\n",
       "3     628  facial-expressions_2868582k.jpg      fear\n",
       "4   dwdii           Aaron_Eckhart_0001.jpg   neutral"
      ]
     },
     "execution_count": 4,
     "metadata": {},
     "output_type": "execute_result"
    }
   ],
   "source": [
    "data = pd.read_csv('data/legend.csv')\n",
    "data.head()"
   ]
  },
  {
   "cell_type": "code",
   "execution_count": 5,
   "metadata": {},
   "outputs": [
    {
     "name": "stdout",
     "output_type": "stream",
     "text": [
      "['anger' 'surprise' 'disgust' 'fear' 'neutral' 'happiness' 'sadness'\n",
      " 'contempt']\n"
     ]
    },
    {
     "data": {
      "text/plain": [
       "numpy.ndarray"
      ]
     },
     "execution_count": 5,
     "metadata": {},
     "output_type": "execute_result"
    }
   ],
   "source": [
    "data['emotion'] = data['emotion'].str.lower()\n",
    "print(data['emotion'].str.lower().unique())\n",
    "type_y = data['emotion'].str.lower().unique()\n",
    "type(type_y)"
   ]
  },
  {
   "cell_type": "code",
   "execution_count": 6,
   "metadata": {},
   "outputs": [],
   "source": [
    "list0 = []\n",
    "list1 = []\n",
    "list2 = []\n",
    "list3 = []\n",
    "list4 = []\n",
    "list5 = []\n",
    "list6 = []\n",
    "list7 = []\n",
    "y0 = []\n",
    "y1 = []\n",
    "y2 = []\n",
    "y3 = []\n",
    "y4 = []\n",
    "y5 = []\n",
    "y6 = []\n",
    "y7 = []\n",
    "\n",
    "for i in range(0,13650):\n",
    "    A = cv2.imread('images/'+data.iloc[i,1])\n",
    "    B = cv2.resize(A,dsize=(64, 64),interpolation=cv2.INTER_CUBIC)\n",
    "    C = cv2.cvtColor(B, cv2.COLOR_BGR2GRAY)\n",
    "    out = data.iloc[i,2]\n",
    "    idx = np.where(type_y==out.lower())[0][0]\n",
    "    #print(idx)\n",
    "    if idx==0:\n",
    "        y0.append(out)\n",
    "        list0.append(C)\n",
    "    elif idx==1:\n",
    "        y1.append(out)\n",
    "        list1.append(C)\n",
    "    elif idx==2:\n",
    "        y2.append(out)\n",
    "        list2.append(C)\n",
    "    elif idx==3:\n",
    "        y3.append(out)\n",
    "        list3.append(C)\n",
    "    elif idx==4:\n",
    "        y4.append(out)\n",
    "        list4.append(C)\n",
    "    elif idx==5:\n",
    "        y5.append(out)\n",
    "        list5.append(C)\n",
    "    elif idx==6:\n",
    "        y6.append(out)\n",
    "        list6.append(C)\n",
    "    elif idx==7:\n",
    "        y7.append(out)\n",
    "        list7.append(C)"
   ]
  },
  {
   "cell_type": "code",
   "execution_count": 36,
   "metadata": {},
   "outputs": [
    {
     "name": "stdout",
     "output_type": "stream",
     "text": [
      "(249, 64, 64)    (249,)\n",
      "(368, 64, 64)    (368,)\n",
      "(208, 64, 64)    (208,)\n",
      "(21, 64, 64)    (21,)\n",
      "(6868, 64, 64)    (6868,)\n",
      "(5659, 64, 64)    (5659,)\n",
      "(268, 64, 64)    (268,)\n",
      "(9, 64, 64)    (9,)\n"
     ]
    }
   ],
   "source": [
    "list0 = np.array(list0)\n",
    "list1 = np.array(list1)\n",
    "list2 = np.array(list2)\n",
    "list3 = np.array(list3)\n",
    "list4 = np.array(list4)\n",
    "list5 = np.array(list5)\n",
    "list6 = np.array(list6)\n",
    "list7 = np.array(list7)\n",
    "y0 = np.array(y0)\n",
    "y1 = np.array(y1)\n",
    "y2 = np.array(y2)\n",
    "y3 = np.array(y3)\n",
    "y4 = np.array(y4)\n",
    "y5 = np.array(y5)\n",
    "y6 = np.array(y6)\n",
    "y7 = np.array(y7)\n",
    "print(list0.shape,\"  \",y0.shape)\n",
    "print(list1.shape,\"  \",y1.shape)\n",
    "print(list2.shape,\"  \",y2.shape)\n",
    "print(list3.shape,\"  \",y3.shape)\n",
    "print(list4.shape,\"  \",y4.shape)\n",
    "print(list5.shape,\"  \",y5.shape)\n",
    "print(list6.shape,\"  \",y6.shape)\n",
    "print(list7.shape,\"  \",y7.shape)"
   ]
  },
  {
   "cell_type": "code",
   "execution_count": 7,
   "metadata": {},
   "outputs": [
    {
     "name": "stdout",
     "output_type": "stream",
     "text": [
      "249 368 208 0 401 401 268\n",
      "(1895, 64, 64)\n",
      "(1895,)\n"
     ]
    }
   ],
   "source": [
    "list_main = []\n",
    "y = []\n",
    "a0=0\n",
    "a1=0\n",
    "a2=0\n",
    "a3=0\n",
    "a4=0\n",
    "a5=0\n",
    "a6=0\n",
    "a7=0\n",
    "for i in range(0,1900):\n",
    "    if(list0.shape[0]>a0):\n",
    "        list_main.append(list0[a0])\n",
    "        y.append(y0[a0])\n",
    "        a0+=1\n",
    "    if(list1.shape[0]>a1):\n",
    "        list_main.append(list1[a1])\n",
    "        y.append(y1[a1])\n",
    "        a1+=1\n",
    "    if(list2.shape[0]>a2):\n",
    "        list_main.append(list2[a2])\n",
    "        y.append(y2[a2])\n",
    "        a2+=1\n",
    "    if(list4.shape[0]>a4 and a4<401):\n",
    "        list_main.append(list4[a4])\n",
    "        y.append(y4[a4])\n",
    "        a4+=1\n",
    "    if(list5.shape[0]>a5 and a5<401):\n",
    "        list_main.append(list5[a5])\n",
    "        y.append(y5[a5])\n",
    "        a5+=1\n",
    "    if(list6.shape[0]>a6):\n",
    "        list_main.append(list6[a6])\n",
    "        y.append(y6[a6])\n",
    "        a6+=1\n",
    "print(a0,a1,a2,a3,a4,a5,a6)\n",
    "list_main = np.array(list_main)\n",
    "y = np.array(y)\n",
    "print(list_main.shape)\n",
    "print(y.shape)"
   ]
  },
  {
   "cell_type": "code",
   "execution_count": 8,
   "metadata": {},
   "outputs": [
    {
     "name": "stdout",
     "output_type": "stream",
     "text": [
      "(1895, 6)\n"
     ]
    }
   ],
   "source": [
    "type_y = ['anger','surprise','disgust','neutral','happiness','sadness']\n",
    "a0 = [1,0,0,0,0,0]\n",
    "a1 = [0,1,0,0,0,0]\n",
    "a2 = [0,0,1,0,0,0]\n",
    "a3 = [0,0,0,1,0,0]\n",
    "a4 = [0,0,0,0,1,0]\n",
    "a5 = [0,0,0,0,0,1]\n",
    "new_y = []\n",
    "for i in y:\n",
    "    if i=='anger':\n",
    "        new_y.append(a0)\n",
    "    elif i=='surprise':\n",
    "        new_y.append(a1)\n",
    "    elif i=='disgust':\n",
    "        new_y.append(a2)\n",
    "    elif i=='neutral':\n",
    "        new_y.append(a3)\n",
    "    elif i=='happiness':\n",
    "        new_y.append(a4)\n",
    "    elif i=='sadness':\n",
    "        new_y.append(a5)\n",
    "new_y = np.array(new_y)\n",
    "print(new_y.shape)"
   ]
  },
  {
   "cell_type": "code",
   "execution_count": 9,
   "metadata": {},
   "outputs": [
    {
     "name": "stdout",
     "output_type": "stream",
     "text": [
      "(1895, 6)\n"
     ]
    }
   ],
   "source": [
    "y = new_y\n",
    "print(y.shape)"
   ]
  },
  {
   "cell_type": "code",
   "execution_count": 37,
   "metadata": {},
   "outputs": [
    {
     "name": "stdout",
     "output_type": "stream",
     "text": [
      "(1895, 64, 64)\n",
      "(1895,)\n"
     ]
    }
   ],
   "source": [
    "list = np.vstack((list0,list1))\n",
    "y = np.hstack((y0,y1))\n",
    "list = np.vstack((list,list2))\n",
    "y = np.hstack((y,y2))\n",
    "list = np.vstack((list,list4[:401]))\n",
    "y = np.hstack((y,y4[:401]))\n",
    "list = np.vstack((list,list5[:401]))\n",
    "y = np.hstack((y,y5[:401]))\n",
    "list = np.vstack((list,list6))\n",
    "y = np.hstack((y,y6))\n",
    "\n",
    "print(list.shape)\n",
    "print(y.shape)"
   ]
  },
  {
   "cell_type": "code",
   "execution_count": 38,
   "metadata": {},
   "outputs": [
    {
     "name": "stdout",
     "output_type": "stream",
     "text": [
      "['neutral' 'sadness' 'disgust' 'surprise' 'anger' 'happiness']\n",
      "(6,)\n"
     ]
    }
   ],
   "source": [
    "output = set()\n",
    "for x in y:\n",
    "    output.add(x)\n",
    "type_y = []\n",
    "for x in output:\n",
    "    type_y.append(x)\n",
    "type_y = np.array(type_y)\n",
    "print(type_y)\n",
    "print(type_y.shape)"
   ]
  },
  {
   "cell_type": "code",
   "execution_count": 39,
   "metadata": {},
   "outputs": [],
   "source": [
    "train_X_orig = list\n",
    "train_y = np.array(y)\n",
    "train_y_orig = train_y.T"
   ]
  },
  {
   "cell_type": "code",
   "execution_count": 40,
   "metadata": {},
   "outputs": [
    {
     "data": {
      "image/png": "[encoded data removed]",
      "text/plain": [
       "<matplotlib.figure.Figure at 0x225541142b0>"
      ]
     },
     "metadata": {},
     "output_type": "display_data"
    }
   ],
   "source": [
    "plt.imshow(train_X_orig[1],interpolation='nearest')\n",
    "plt.show()"
   ]
  },
  {
   "cell_type": "code",
   "execution_count": 41,
   "metadata": {},
   "outputs": [
    {
     "name": "stdout",
     "output_type": "stream",
     "text": [
      "Shape of X :  (1895, 64, 64)\n",
      "Shape of y :  (1895,)\n"
     ]
    }
   ],
   "source": [
    "shape_X = train_X_orig.shape\n",
    "shape_y = train_y_orig.shape\n",
    "print(\"Shape of X : \",shape_X)\n",
    "print(\"Shape of y : \",shape_y)"
   ]
  },
  {
   "cell_type": "code",
   "execution_count": 42,
   "metadata": {},
   "outputs": [
    {
     "name": "stdout",
     "output_type": "stream",
     "text": [
      "train_X shape :  (4096, 1895)\n",
      "train_y shape :  (1895,)\n"
     ]
    }
   ],
   "source": [
    "train_X_flatten = train_X_orig.reshape(train_X_orig.shape[0],-1).T\n",
    "X = train_X_flatten/255\n",
    "y = train_y_orig\n",
    "print(\"train_X shape : \",X.shape)\n",
    "print(\"train_y shape : \",y.shape)"
   ]
  },
  {
   "cell_type": "code",
   "execution_count": 43,
   "metadata": {},
   "outputs": [],
   "source": [
    "encoder = LabelEncoder()\n",
    "encoder.fit(train_y)\n",
    "encoded_train_y = encoder.transform(train_y)\n",
    "dummy_y = np_utils.to_categorical(encoded_train_y)"
   ]
  },
  {
   "cell_type": "code",
   "execution_count": 258,
   "metadata": {},
   "outputs": [
    {
     "name": "stdout",
     "output_type": "stream",
     "text": [
      "['anger' 'disgust' 'happiness' 'neutral' 'sadness' 'surprise']\n"
     ]
    }
   ],
   "source": [
    "type_y = ['anger','disgust','happiness','neutral','sadness','surprise']\n",
    "type_y = np.array(type_y)\n",
    "print(type_y)"
   ]
  },
  {
   "cell_type": "code",
   "execution_count": 44,
   "metadata": {},
   "outputs": [
    {
     "name": "stdout",
     "output_type": "stream",
     "text": [
      "[[ 0.  0.  0.  0.  1.  0.]\n",
      " [ 0.  0.  0.  0.  1.  0.]\n",
      " [ 0.  0.  0.  0.  1.  0.]]\n",
      "(1895, 6)\n"
     ]
    }
   ],
   "source": [
    "print(dummy_y[1627:1630,:])\n",
    "print(dummy_y.shape)"
   ]
  },
  {
   "cell_type": "code",
   "execution_count": 45,
   "metadata": {},
   "outputs": [],
   "source": [
    "train_X,test_X,train_y,test_y = train_test_split(X.T,dummy_y,test_size=0.2,random_state=1,shuffle=True)"
   ]
  },
  {
   "cell_type": "code",
   "execution_count": 46,
   "metadata": {},
   "outputs": [
    {
     "name": "stdout",
     "output_type": "stream",
     "text": [
      "Shape of train_X :  (4096, 1516)\n",
      "Shape of train_X :  (4096, 379)\n",
      "Shape of train_X :  (6, 1516)\n",
      "Shape of train_X :  (6, 379)\n"
     ]
    }
   ],
   "source": [
    "train_X = train_X.T\n",
    "test_X = test_X.T\n",
    "train_y = train_y.T\n",
    "test_y = test_y.T\n",
    "print(\"Shape of train_X : \",train_X.shape)\n",
    "print(\"Shape of train_X : \",test_X.shape)\n",
    "print(\"Shape of train_X : \",train_y.shape)\n",
    "print(\"Shape of train_X : \",test_y.shape)"
   ]
  },
  {
   "cell_type": "code",
   "execution_count": 47,
   "metadata": {},
   "outputs": [],
   "source": [
    "# We will define deep neural network with following layers\n",
    "# (input) -> 80 -> 20 ->  11 -> 7\n",
    "def base_model():\n",
    "    # Create Model\n",
    "    model = Sequential()\n",
    "    model.add(Dense(80, input_dim=train_X.shape[0], activation='relu'))\n",
    "    model.add(Dense(20, input_dim=80, activation='relu'))\n",
    "    model.add(Dense(11, input_dim=20, activation='relu'))\n",
    "    model.add(Dense(train_y.shape[0], activation='softmax'))\n",
    "    model.compile(loss='categorical_crossentropy', optimizer='adam', metrics=['accuracy'])\n",
    "    return model"
   ]
  },
  {
   "cell_type": "code",
   "execution_count": 48,
   "metadata": {},
   "outputs": [],
   "source": [
    "estimator = KerasClassifier(build_fn=base_model, epochs=20, batch_size=32, verbose=0)"
   ]
  },
  {
   "cell_type": "code",
   "execution_count": 49,
   "metadata": {},
   "outputs": [],
   "source": [
    "seed = 7\n",
    "np.random.seed(seed)\n",
    "kfold = KFold(n_splits=10, shuffle=True, random_state=seed)"
   ]
  },
  {
   "cell_type": "code",
   "execution_count": 50,
   "metadata": {},
   "outputs": [
    {
     "name": "stdout",
     "output_type": "stream",
     "text": [
      "Baseline: 42.21% (8.69%)\n"
     ]
    }
   ],
   "source": [
    "results = cross_val_score(estimator, train_X.T, train_y.T, cv=kfold)\n",
    "print(\"Baseline: %.2f%% (%.2f%%)\" % (results.mean()*100, results.std()*100))"
   ]
  },
  {
   "cell_type": "code",
   "execution_count": 51,
   "metadata": {},
   "outputs": [],
   "source": [
    "keras_model = base_model()"
   ]
  },
  {
   "cell_type": "code",
   "execution_count": 53,
   "metadata": {},
   "outputs": [
    {
     "name": "stdout",
     "output_type": "stream",
     "text": [
      "Epoch 1/5\n",
      "1516/1516 [==============================] - 1s - loss: 1.7737 - acc: 0.2150     \n",
      "Epoch 2/5\n",
      "1516/1516 [==============================] - 0s - loss: 1.7241 - acc: 0.2526     \n",
      "Epoch 3/5\n",
      "1516/1516 [==============================] - 0s - loss: 1.7126 - acc: 0.2540     \n",
      "Epoch 4/5\n",
      "1516/1516 [==============================] - 0s - loss: 1.6346 - acc: 0.3028     \n",
      "Epoch 5/5\n",
      "1516/1516 [==============================] - 0s - loss: 1.6143 - acc: 0.2975     \n"
     ]
    },
    {
     "data": {
      "text/plain": [
       "<keras.callbacks.History at 0x225576708d0>"
      ]
     },
     "execution_count": 53,
     "metadata": {},
     "output_type": "execute_result"
    }
   ],
   "source": [
    "keras_model.fit(train_X.T,train_y.T,epochs=5,batch_size=32)"
   ]
  },
  {
   "cell_type": "code",
   "execution_count": 54,
   "metadata": {},
   "outputs": [],
   "source": [
    "classes = keras_model.predict(test_X.T,batch_size=32)"
   ]
  },
  {
   "cell_type": "code",
   "execution_count": 55,
   "metadata": {},
   "outputs": [
    {
     "name": "stdout",
     "output_type": "stream",
     "text": [
      "[[ 0.1188825   0.12774214  0.21016936  0.16910836  0.14952944  0.22456819]\n",
      " [ 0.07854515  0.03674404  0.29860106  0.40044808  0.10125855  0.08440305]\n",
      " [ 0.06930757  0.02728596  0.29737559  0.4524115   0.0920597   0.06155966]]\n",
      "(6, 379)\n"
     ]
    }
   ],
   "source": [
    "print(classes[:3,:])\n",
    "print(test_y.shape)"
   ]
  },
  {
   "cell_type": "code",
   "execution_count": 56,
   "metadata": {},
   "outputs": [
    {
     "name": "stdout",
     "output_type": "stream",
     "text": [
      "(379, 6)\n",
      "296\n",
      "Accuracy :  0.0  %\n"
     ]
    }
   ],
   "source": [
    "print(classes.shape)\n",
    "correct = 0\n",
    "c4 = 0\n",
    "for i in range(0,classes.shape[0]):\n",
    "    idx = np.argmax(classes[i,:],axis=0)\n",
    "    if idx==3:\n",
    "        c4+=1\n",
    "    if classes[i,idx]==test_y[idx,i]:\n",
    "        correct+=1\n",
    "print(c4)\n",
    "print(\"Accuracy : \",float(correct)/float(classes.shape[0])*100.0,\" %\")"
   ]
  },
  {
   "cell_type": "code",
   "execution_count": 63,
   "metadata": {},
   "outputs": [
    {
     "name": "stdout",
     "output_type": "stream",
     "text": [
      "(1, 64, 64)\n",
      "(4096, 1)\n"
     ]
    },
    {
     "data": {
      "image/png": "[encoded data removed]",
      "text/plain": [
       "<matplotlib.figure.Figure at 0x22557a3ae80>"
      ]
     },
     "metadata": {},
     "output_type": "display_data"
    },
    {
     "name": "stdout",
     "output_type": "stream",
     "text": [
      "Tested Image is having emotion predicted as :  3\n"
     ]
    }
   ],
   "source": [
    "my_image = 'KL.FE2.175.jpg'\n",
    "my_label = [5]\n",
    "fname = 'test/'+my_image\n",
    "\n",
    "image = cv2.imread(fname)\n",
    "my_image = cv2.resize(image, dsize=(64, 64), interpolation=cv2.INTER_CUBIC)\n",
    "my_image = cv2.cvtColor(my_image, cv2.COLOR_BGR2GRAY)\n",
    "X_temp = []\n",
    "X_temp.append(my_image)\n",
    "X_temp = X_temp\n",
    "X = np.array(X_temp)\n",
    "X = X\n",
    "print(X.shape)\n",
    "X_flat = X.reshape(X.shape[0],-1).T\n",
    "X_flat = X_flat/255.0\n",
    "print(X_flat.shape)\n",
    "\n",
    "prediction = keras_model.predict(X_flat.T,batch_size=1)\n",
    "\n",
    "idx = np.argmax(prediction[0,:],axis=0)\n",
    "plt.title(\"Tested Image\")\n",
    "plt.imshow(image,interpolation='nearest')\n",
    "plt.show()\n",
    "print(\"Tested Image is having emotion predicted as : \",idx)"
   ]
  },
  {
   "cell_type": "code",
   "execution_count": null,
   "metadata": {},
   "outputs": [],
   "source": []
  }
 ],
 "metadata": {
  "kernelspec": {
   "display_name": "Python 3",
   "language": "python",
   "name": "python3"
  },
  "language_info": {
   "codemirror_mode": {
    "name": "ipython",
    "version": 3
   },
   "file_extension": ".py",
   "mimetype": "text/x-python",
   "name": "python",
   "nbconvert_exporter": "python",
   "pygments_lexer": "ipython3",
   "version": "3.5.5"
  },
  "widgets": {
   "state": {},
   "version": "1.1.2"
  }
 },
 "nbformat": 4,
 "nbformat_minor": 2
}
